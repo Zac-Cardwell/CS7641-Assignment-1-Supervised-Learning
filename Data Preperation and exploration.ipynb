{
 "cells": [
  {
   "cell_type": "code",
   "execution_count": null,
   "id": "14fccd36",
   "metadata": {},
   "outputs": [],
   "source": [
    "import pandas as pd\n",
    "import numpy as np\n",
    "\n",
    "from sklearn.preprocessing import OneHotEncoder\n",
    "from sklearn.compose import ColumnTransformer\n",
    "import matplotlib.pyplot as plt\n",
    "import seaborn as sns"
   ]
  },
  {
   "cell_type": "markdown",
   "id": "5ab3fd17",
   "metadata": {},
   "source": [
    "Dataset can be found here:  https://www.kaggle.com/datasets/fedesoriano/stellar-classification-dataset-sdss17"
   ]
  },
  {
   "cell_type": "code",
   "execution_count": null,
   "id": "3684dedb",
   "metadata": {},
   "outputs": [],
   "source": [
    "Data2 = pd.read_csv(\"star_classification.csv\")\n",
    "\n",
    "# IDs dropped because they add no value to dataset or classification  \n",
    "Data2 = Data2.drop(['rerun_ID','obj_ID','run_ID','field_ID','spec_obj_ID','fiber_ID'], axis = 1)\n",
    "Data2.head()"
   ]
  },
  {
   "cell_type": "code",
   "execution_count": null,
   "id": "aab4bd11",
   "metadata": {},
   "outputs": [],
   "source": [
    "Data2.info()"
   ]
  },
  {
   "cell_type": "code",
   "execution_count": null,
   "id": "b2dfc545",
   "metadata": {},
   "outputs": [],
   "source": [
    "Data2['class'].value_counts()"
   ]
  },
  {
   "cell_type": "code",
   "execution_count": null,
   "id": "ef0784ef",
   "metadata": {},
   "outputs": [],
   "source": [
    "fig,ax=plt.subplots(1,1,figsize=(10,7))\n",
    "sns.heatmap(Data2.corr(),annot=True,linewidths=1, annot_kws={\"fontsize\": 6})\n",
    "plt.show()"
   ]
  },
  {
   "cell_type": "code",
   "execution_count": null,
   "id": "db3f354a",
   "metadata": {},
   "outputs": [],
   "source": []
  },
  {
   "cell_type": "markdown",
   "id": "a180c095",
   "metadata": {},
   "source": [
    "# Preprocessing"
   ]
  },
  {
   "cell_type": "code",
   "execution_count": null,
   "id": "a52f164d",
   "metadata": {},
   "outputs": [],
   "source": [
    "labels = {'GALAXY': 0, 'STAR': 1, 'QSO': 2}\n",
    "Data2['class'] = Data2['class'].map(lambda s: labels.get(s) if s in labels else s)"
   ]
  },
  {
   "cell_type": "code",
   "execution_count": null,
   "id": "aa95e4d4",
   "metadata": {},
   "outputs": [],
   "source": []
  },
  {
   "cell_type": "code",
   "execution_count": null,
   "id": "600b0a71",
   "metadata": {},
   "outputs": [],
   "source": [
    "#subsampleing the datset to try and decrese training time\n",
    "\n",
    "newdata = Data2.sample(frac=.1, ignore_index=True)"
   ]
  },
  {
   "cell_type": "code",
   "execution_count": null,
   "id": "7c589b54",
   "metadata": {},
   "outputs": [],
   "source": [
    "newdata.to_csv('star_classification_Prep.csv')"
   ]
  }
 ],
 "metadata": {
  "kernelspec": {
   "display_name": "Python 3 (ipykernel)",
   "language": "python",
   "name": "python3"
  },
  "language_info": {
   "codemirror_mode": {
    "name": "ipython",
    "version": 3
   },
   "file_extension": ".py",
   "mimetype": "text/x-python",
   "name": "python",
   "nbconvert_exporter": "python",
   "pygments_lexer": "ipython3",
   "version": "3.10.11"
  }
 },
 "nbformat": 4,
 "nbformat_minor": 5
}
